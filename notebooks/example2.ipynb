{
 "cells": [
  {
   "cell_type": "markdown",
   "id": "93a7a97b",
   "metadata": {},
   "source": [
    "# Title\n",
    "We need a second script file for testing purposes"
   ]
  },
  {
   "cell_type": "code",
   "execution_count": null,
   "id": "8b5c4983",
   "metadata": {},
   "outputs": [],
   "source": [
    "print('Hello world!')"
   ]
  }
 ],
 "metadata": {
  "jupytext": {
   "cell_metadata_filter": "-all",
   "custom_cell_magics": "kql"
  },
  "kernelspec": {
   "display_name": "everything",
   "language": "python",
   "name": "python3"
  }
 },
 "nbformat": 4,
 "nbformat_minor": 5
}
