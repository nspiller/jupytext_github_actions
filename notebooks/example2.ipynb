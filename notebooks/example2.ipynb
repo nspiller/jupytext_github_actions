{
 "cells": [
  {
   "cell_type": "markdown",
   "id": "27509560",
   "metadata": {},
   "source": [
    "# Title\n",
    "We need a second script file for testing purposes"
   ]
  },
  {
   "cell_type": "code",
   "execution_count": null,
   "id": "d1cdd56b",
   "metadata": {},
   "outputs": [],
   "source": [
    "print('Hello world!')"
   ]
  }
 ],
 "metadata": {
  "jupytext": {
   "cell_metadata_filter": "-all",
   "custom_cell_magics": "kql"
  },
  "kernelspec": {
   "display_name": "everything",
   "language": "python",
   "name": "python3"
  }
 },
 "nbformat": 4,
 "nbformat_minor": 5
}
