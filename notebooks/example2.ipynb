{
 "cells": [
  {
   "cell_type": "markdown",
   "id": "5187e7b7",
   "metadata": {},
   "source": [
    "# Title\n",
    "We need a second script file for testing purposes\n",
    "changing script files"
   ]
  },
  {
   "cell_type": "code",
   "execution_count": null,
   "id": "1ac92522",
   "metadata": {},
   "outputs": [],
   "source": [
    "print('Hello world!')"
   ]
  }
 ],
 "metadata": {
  "jupytext": {
   "cell_metadata_filter": "-all",
   "custom_cell_magics": "kql"
  },
  "kernelspec": {
   "display_name": "everything",
   "language": "python",
   "name": "python3"
  }
 },
 "nbformat": 4,
 "nbformat_minor": 5
}
