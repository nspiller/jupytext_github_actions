{
 "cells": [
  {
   "cell_type": "code",
   "execution_count": null,
   "id": "baa0b6e9",
   "metadata": {},
   "outputs": [],
   "source": [
    "import numpy as np\n",
    "n = 1000\n",
    "x1 = np.sum(np.arange(n+1))\n",
    "x2 = n * (n + 1) / 2\n",
    "x1 == x2"
   ]
  },
  {
   "cell_type": "code",
   "execution_count": null,
   "id": "49e8e218",
   "metadata": {},
   "outputs": [],
   "source": []
  }
 ],
 "metadata": {
  "jupytext": {
   "cell_metadata_filter": "-all",
   "custom_cell_magics": "kql"
  },
  "kernelspec": {
   "display_name": "everything",
   "language": "python",
   "name": "python3"
  }
 },
 "nbformat": 4,
 "nbformat_minor": 5
}
